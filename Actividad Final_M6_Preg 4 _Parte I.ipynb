{
 "cells": [
  {
   "cell_type": "code",
   "execution_count": 132,
   "metadata": {},
   "outputs": [],
   "source": [
    "import pandas as pd\n",
    "import numpy as np\n",
    "from sklearn.cluster import KMeans\n"
   ]
  },
  {
   "attachments": {},
   "cell_type": "markdown",
   "metadata": {},
   "source": [
    "Desarrollo Pregunta 4 / Parte I"
   ]
  },
  {
   "cell_type": "code",
   "execution_count": 133,
   "metadata": {},
   "outputs": [],
   "source": [
    "# Sin escalar las variables, describa tres iteraciones del algoritmo K-means para k = 2. \n",
    "# Use los centroides C1 = (47.5, 37.5, 21.8) y C2 = (53.2, 22.4, 75.3).\n",
    "\n",
    "# datos sin escalar\n",
    "X = np.array([[10, 4, 50],\n",
    "              [8, 99, 31],\n",
    "              [34, 44, 86],\n",
    "              [9, 50, 57],\n",
    "              [46, 77, 75],\n",
    "              [68, 30, 14],\n",
    "              [80, 25, 40],\n",
    "              [50, 35, 60]])\n",
    "\n",
    "# Centroides iniciales\n",
    "C = np.array([[47.5, 37.5, 21.8],\n",
    "              [53.2, 22.4, 75.3]])\n",
    "    "
   ]
  },
  {
   "cell_type": "code",
   "execution_count": 134,
   "metadata": {},
   "outputs": [],
   "source": [
    "# Función para calcular la distancia euclidiana\n",
    "def euclidean_distance(a, b):\n",
    "    return np.sqrt(np.sum((a - b) ** 2))\n",
    "\n",
    "# Función para asignar cada observación al centroide más cercano\n",
    "def assign_clusters(X, C):\n",
    "    clusters = []\n",
    "    for x in X:\n",
    "        distancia = [euclidean_distance(x, c) for c in C]\n",
    "        cluster = np.argmin(distancia)\n",
    "        clusters.append(cluster)\n",
    "    return np.array(clusters)\n",
    "\n",
    "# Función para calcular los nuevos centroides\n",
    "def update_centroids(X, clusters, num_clusters):\n",
    "    centroides = []\n",
    "    for i in range(num_clusters):\n",
    "        cluster_points = X[clusters == i]\n",
    "        centroide = np.mean(cluster_points, axis=0)\n",
    "        centroides.append(centroide)\n",
    "    return np.array(centroides)\n"
   ]
  },
  {
   "cell_type": "code",
   "execution_count": 135,
   "metadata": {},
   "outputs": [
    {
     "name": "stdout",
     "output_type": "stream",
     "text": [
      "Iteration 1:\n",
      "Clusters: [1 0 1 0 1 0 0 1]\n",
      "Centroids: [[41.2 51.  35.5]\n",
      " [35.  40.  67.8]]\n",
      "\n",
      "Iteration 2:\n",
      "Clusters: [1 0 1 1 1 0 0 1]\n",
      "Centroids: [[52.  51.3 28.3]\n",
      " [29.8 42.  65.6]]\n",
      "\n",
      "Iteration 3:\n",
      "Clusters: [1 0 1 1 1 0 0 1]\n",
      "Centroids: [[52.  51.3 28.3]\n",
      " [29.8 42.  65.6]]\n",
      "\n"
     ]
    }
   ],
   "source": [
    "# Algoritmo K-means\n",
    "num_clusters = 2\n",
    "for iteracion in range(3):\n",
    "    # Asignar observaciones a los centroides más cercanos\n",
    "    clusters = assign_clusters(X, C)\n",
    "\n",
    "    # Calcular nuevos centroides\n",
    "    C = update_centroids(X, clusters, num_clusters)\n",
    "\n",
    "    # Imprimir resultados con 2 decimales\n",
    "    print(f\"Iteration {iteracion + 1}:\")\n",
    "    print(\"Clusters:\", clusters)\n",
    "    print(\"Centroids:\", np.round(C, 1))\n",
    "    print()"
   ]
  }
 ],
 "metadata": {
  "kernelspec": {
   "display_name": "base",
   "language": "python",
   "name": "python3"
  },
  "language_info": {
   "codemirror_mode": {
    "name": "ipython",
    "version": 3
   },
   "file_extension": ".py",
   "mimetype": "text/x-python",
   "name": "python",
   "nbconvert_exporter": "python",
   "pygments_lexer": "ipython3",
   "version": "3.10.9"
  },
  "orig_nbformat": 4
 },
 "nbformat": 4,
 "nbformat_minor": 2
}
